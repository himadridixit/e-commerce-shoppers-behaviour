{
 "cells": [
  {
   "cell_type": "markdown",
   "metadata": {},
   "source": [
    "### **Importing necessary libraries**"
   ]
  },
  {
   "cell_type": "code",
   "execution_count": null,
   "metadata": {
    "_cell_guid": "b1076dfc-b9ad-4769-8c92-a6c4dae69d19",
    "_uuid": "8f2839f25d086af736a60e9eeb907d3b93b6e0e5",
    "execution": {
     "iopub.execute_input": "2023-04-03T16:03:22.704363Z",
     "iopub.status.busy": "2023-04-03T16:03:22.703926Z",
     "iopub.status.idle": "2023-04-03T16:03:22.717497Z",
     "shell.execute_reply": "2023-04-03T16:03:22.716070Z"
    },
    "papermill": {
     "duration": 0.027602,
     "end_time": "2023-04-03T16:03:22.720207",
     "exception": false,
     "start_time": "2023-04-03T16:03:22.692605",
     "status": "completed"
    },
    "tags": []
   },
   "outputs": [],
   "source": [
    "import numpy as np \n",
    "import pandas as pd \n",
    "import matplotlib.pyplot as plt\n",
    "import seaborn as sns"
   ]
  },
  {
   "cell_type": "markdown",
   "metadata": {},
   "source": [
    "### **Importing data**"
   ]
  },
  {
   "cell_type": "code",
   "execution_count": null,
   "metadata": {
    "execution": {
     "iopub.execute_input": "2023-04-03T16:03:22.738477Z",
     "iopub.status.busy": "2023-04-03T16:03:22.738054Z",
     "iopub.status.idle": "2023-04-03T16:03:22.878264Z",
     "shell.execute_reply": "2023-04-03T16:03:22.877366Z"
    },
    "papermill": {
     "duration": 0.153012,
     "end_time": "2023-04-03T16:03:22.881797",
     "exception": false,
     "start_time": "2023-04-03T16:03:22.728785",
     "status": "completed"
    },
    "tags": []
   },
   "outputs": [],
   "source": [
    "test_data = pd.read_csv(\"/kaggle/input/e-commerce-shoppers-behaviour-understanding/test_data_v2.csv\")\n",
    "train_data = pd.read_csv(\"/kaggle/input/e-commerce-shoppers-behaviour-understanding/train_data_v2.csv\")\n",
    "sample_data = pd.read_csv(\"/kaggle/input/e-commerce-shoppers-behaviour-understanding/sample.csv\")"
   ]
  },
  {
   "cell_type": "markdown",
   "metadata": {
    "papermill": {
     "duration": 0.008248,
     "end_time": "2023-04-03T16:03:22.898951",
     "exception": false,
     "start_time": "2023-04-03T16:03:22.890703",
     "status": "completed"
    },
    "tags": []
   },
   "source": [
    "### **Data exploration**"
   ]
  },
  {
   "cell_type": "code",
   "execution_count": null,
   "metadata": {
    "execution": {
     "iopub.execute_input": "2023-04-03T16:03:22.921032Z",
     "iopub.status.busy": "2023-04-03T16:03:22.920292Z",
     "iopub.status.idle": "2023-04-03T16:03:22.950327Z",
     "shell.execute_reply": "2023-04-03T16:03:22.949214Z"
    },
    "papermill": {
     "duration": 0.042881,
     "end_time": "2023-04-03T16:03:22.953795",
     "exception": false,
     "start_time": "2023-04-03T16:03:22.910914",
     "status": "completed"
    },
    "tags": []
   },
   "outputs": [],
   "source": [
    "train_data.info()\n",
    "# can see here that there are null values in the dataset"
   ]
  },
  {
   "cell_type": "code",
   "execution_count": null,
   "metadata": {
    "execution": {
     "iopub.execute_input": "2023-04-03T16:03:22.972740Z",
     "iopub.status.busy": "2023-04-03T16:03:22.971844Z",
     "iopub.status.idle": "2023-04-03T16:03:23.051835Z",
     "shell.execute_reply": "2023-04-03T16:03:23.050243Z"
    },
    "papermill": {
     "duration": 0.091893,
     "end_time": "2023-04-03T16:03:23.054604",
     "exception": false,
     "start_time": "2023-04-03T16:03:22.962711",
     "status": "completed"
    },
    "tags": []
   },
   "outputs": [],
   "source": [
    "train_data.describe()"
   ]
  },
  {
   "cell_type": "markdown",
   "metadata": {},
   "source": [
    "### Correlation between features using Heatmap"
   ]
  },
  {
   "cell_type": "code",
   "execution_count": null,
   "metadata": {
    "execution": {
     "iopub.execute_input": "2023-04-03T16:03:23.074963Z",
     "iopub.status.busy": "2023-04-03T16:03:23.074554Z",
     "iopub.status.idle": "2023-04-03T16:03:25.815185Z",
     "shell.execute_reply": "2023-04-03T16:03:25.813973Z"
    },
    "papermill": {
     "duration": 2.752879,
     "end_time": "2023-04-03T16:03:25.817621",
     "exception": false,
     "start_time": "2023-04-03T16:03:23.064742",
     "status": "completed"
    },
    "tags": []
   },
   "outputs": [],
   "source": [
    "#plotting heatmap to check for high correlation between features\n",
    "\n",
    "plt.figure(figsize=(12,9))\n",
    "correlation = train_data.corr()\n",
    "sns.heatmap(correlation, annot=True)"
   ]
  },
  {
   "cell_type": "markdown",
   "metadata": {},
   "source": [
    "### Dropping columns with high correlation with other columns"
   ]
  },
  {
   "cell_type": "code",
   "execution_count": null,
   "metadata": {
    "execution": {
     "iopub.execute_input": "2023-04-03T16:03:25.931792Z",
     "iopub.status.busy": "2023-04-03T16:03:25.930590Z",
     "iopub.status.idle": "2023-04-03T16:03:25.943181Z",
     "shell.execute_reply": "2023-04-03T16:03:25.941958Z"
    },
    "papermill": {
     "duration": 0.027374,
     "end_time": "2023-04-03T16:03:25.945956",
     "exception": false,
     "start_time": "2023-04-03T16:03:25.918582",
     "status": "completed"
    },
    "tags": []
   },
   "outputs": [],
   "source": [
    "train_data.drop(['ProductDescriptionPage', 'GoogleMetric:Exit Rates','OS'], inplace=True, axis=1)"
   ]
  },
  {
   "cell_type": "markdown",
   "metadata": {},
   "source": [
    "### Seperating feature from labels"
   ]
  },
  {
   "cell_type": "code",
   "execution_count": null,
   "metadata": {
    "execution": {
     "iopub.execute_input": "2023-04-03T16:03:25.842349Z",
     "iopub.status.busy": "2023-04-03T16:03:25.841951Z",
     "iopub.status.idle": "2023-04-03T16:03:25.848986Z",
     "shell.execute_reply": "2023-04-03T16:03:25.848180Z"
    },
    "papermill": {
     "duration": 0.022251,
     "end_time": "2023-04-03T16:03:25.851323",
     "exception": false,
     "start_time": "2023-04-03T16:03:25.829072",
     "status": "completed"
    },
    "tags": []
   },
   "outputs": [],
   "source": [
    "X = train_data[train_data.columns[:-1]]\n",
    "y = train_data[train_data.columns[-1]]"
   ]
  },
  {
   "cell_type": "markdown",
   "metadata": {},
   "source": [
    "### Checking for imbalace in the data"
   ]
  },
  {
   "cell_type": "code",
   "execution_count": null,
   "metadata": {
    "execution": {
     "iopub.execute_input": "2023-04-03T16:03:25.876010Z",
     "iopub.status.busy": "2023-04-03T16:03:25.875219Z",
     "iopub.status.idle": "2023-04-03T16:03:25.883153Z",
     "shell.execute_reply": "2023-04-03T16:03:25.881798Z"
    },
    "papermill": {
     "duration": 0.023138,
     "end_time": "2023-04-03T16:03:25.885684",
     "exception": false,
     "start_time": "2023-04-03T16:03:25.862546",
     "status": "completed"
    },
    "tags": []
   },
   "outputs": [],
   "source": [
    "f = y[y==False].count()\n",
    "t = y[y==True].count()\n",
    "\n",
    "print(\"% of False:\",(f/y.shape[0])*100)\n",
    "print(\"% of True:\",(t/y.shape[0])*100)\n",
    "\n",
    "d = np.array([f,t])\n",
    "labels = np.array([\"Not made purchase\", \"Made purchase\"])\n",
    "plt.pie(d, labels = labels)\n",
    "plt.show()"
   ]
  },
  {
   "cell_type": "code",
   "execution_count": null,
   "metadata": {
    "execution": {
     "iopub.execute_input": "2023-04-03T16:03:25.970635Z",
     "iopub.status.busy": "2023-04-03T16:03:25.969826Z",
     "iopub.status.idle": "2023-04-03T16:03:25.978243Z",
     "shell.execute_reply": "2023-04-03T16:03:25.977341Z"
    },
    "papermill": {
     "duration": 0.023229,
     "end_time": "2023-04-03T16:03:25.980607",
     "exception": false,
     "start_time": "2023-04-03T16:03:25.957378",
     "status": "completed"
    },
    "tags": []
   },
   "outputs": [],
   "source": [
    "# seperating categorical and numerical variables for preprocessing\n",
    "Xcat = X[['Month_SeasonalPurchase','Gender', 'CustomerType', 'Cookies Setting','Marital Status','Education']]\n",
    "Xnum = X.drop(['Month_SeasonalPurchase','Gender', 'CustomerType', 'Cookies Setting','Marital Status','Education'], axis=1)"
   ]
  },
  {
   "cell_type": "markdown",
   "metadata": {},
   "source": [
    "### Imputing null values and scaling for numerical data. Imputation only for categorical data."
   ]
  },
  {
   "cell_type": "code",
   "execution_count": null,
   "metadata": {
    "execution": {
     "iopub.execute_input": "2023-04-03T16:03:26.005311Z",
     "iopub.status.busy": "2023-04-03T16:03:26.004670Z",
     "iopub.status.idle": "2023-04-03T16:03:26.327744Z",
     "shell.execute_reply": "2023-04-03T16:03:26.326817Z"
    },
    "papermill": {
     "duration": 0.338607,
     "end_time": "2023-04-03T16:03:26.330389",
     "exception": false,
     "start_time": "2023-04-03T16:03:25.991782",
     "status": "completed"
    },
    "tags": []
   },
   "outputs": [],
   "source": [
    "from sklearn.pipeline import Pipeline\n",
    "from sklearn.impute import SimpleImputer\n",
    "from sklearn.preprocessing import RobustScaler\n",
    "\n",
    "numpipe = Pipeline([\n",
    "    ('impute', SimpleImputer(strategy='mean')),\n",
    "    ('scaler', RobustScaler())\n",
    "])\n",
    "\n",
    "Xnum_trans = pd.DataFrame(numpipe.fit_transform(Xnum))"
   ]
  },
  {
   "cell_type": "code",
   "execution_count": null,
   "metadata": {
    "execution": {
     "iopub.execute_input": "2023-04-03T16:03:26.354960Z",
     "iopub.status.busy": "2023-04-03T16:03:26.354139Z",
     "iopub.status.idle": "2023-04-03T16:03:26.377075Z",
     "shell.execute_reply": "2023-04-03T16:03:26.375727Z"
    },
    "papermill": {
     "duration": 0.038313,
     "end_time": "2023-04-03T16:03:26.379948",
     "exception": false,
     "start_time": "2023-04-03T16:03:26.341635",
     "status": "completed"
    },
    "tags": []
   },
   "outputs": [],
   "source": [
    "Xcat = pd.DataFrame(SimpleImputer(strategy='most_frequent').fit_transform(Xcat))"
   ]
  },
  {
   "cell_type": "markdown",
   "metadata": {},
   "source": [
    "### Encoding categorical data using OneHotEncoder"
   ]
  },
  {
   "cell_type": "code",
   "execution_count": null,
   "metadata": {
    "execution": {
     "iopub.execute_input": "2023-04-03T16:03:26.405442Z",
     "iopub.status.busy": "2023-04-03T16:03:26.405010Z",
     "iopub.status.idle": "2023-04-03T16:03:26.451240Z",
     "shell.execute_reply": "2023-04-03T16:03:26.449941Z"
    },
    "papermill": {
     "duration": 0.061771,
     "end_time": "2023-04-03T16:03:26.453996",
     "exception": false,
     "start_time": "2023-04-03T16:03:26.392225",
     "status": "completed"
    },
    "tags": []
   },
   "outputs": [],
   "source": [
    "from sklearn.preprocessing import OneHotEncoder\n",
    "\n",
    "ohe = OneHotEncoder(sparse=False, drop='first')\n",
    "Xcat_trans = pd.DataFrame((ohe.fit_transform(Xcat)))"
   ]
  },
  {
   "cell_type": "markdown",
   "metadata": {},
   "source": [
    "### Stacking processed data together"
   ]
  },
  {
   "cell_type": "code",
   "execution_count": null,
   "metadata": {
    "execution": {
     "iopub.execute_input": "2023-04-03T16:03:26.478176Z",
     "iopub.status.busy": "2023-04-03T16:03:26.477795Z",
     "iopub.status.idle": "2023-04-03T16:03:26.524195Z",
     "shell.execute_reply": "2023-04-03T16:03:26.522881Z"
    },
    "papermill": {
     "duration": 0.061386,
     "end_time": "2023-04-03T16:03:26.526729",
     "exception": false,
     "start_time": "2023-04-03T16:03:26.465343",
     "status": "completed"
    },
    "tags": []
   },
   "outputs": [],
   "source": [
    "Xfin = pd.DataFrame(np.hstack((Xnum_trans, Xcat_trans)))\n",
    "Xfin"
   ]
  },
  {
   "cell_type": "markdown",
   "metadata": {},
   "source": [
    "### Splitting the data"
   ]
  },
  {
   "cell_type": "code",
   "execution_count": null,
   "metadata": {
    "execution": {
     "iopub.execute_input": "2023-04-03T16:03:26.551960Z",
     "iopub.status.busy": "2023-04-03T16:03:26.551574Z",
     "iopub.status.idle": "2023-04-03T16:03:26.563751Z",
     "shell.execute_reply": "2023-04-03T16:03:26.562633Z"
    },
    "papermill": {
     "duration": 0.027742,
     "end_time": "2023-04-03T16:03:26.566310",
     "exception": false,
     "start_time": "2023-04-03T16:03:26.538568",
     "status": "completed"
    },
    "tags": []
   },
   "outputs": [],
   "source": [
    "from sklearn.model_selection import train_test_split\n",
    "Xtrain, Xtest, ytrain, ytest = train_test_split(Xfin, y, test_size=0.15, random_state=1729) "
   ]
  },
  {
   "cell_type": "markdown",
   "metadata": {
    "papermill": {
     "duration": 0.011577,
     "end_time": "2023-04-03T16:03:26.589777",
     "exception": false,
     "start_time": "2023-04-03T16:03:26.578200",
     "status": "completed"
    },
    "tags": []
   },
   "source": [
    "### Fitting on train data"
   ]
  },
  {
   "cell_type": "code",
   "execution_count": null,
   "metadata": {
    "execution": {
     "iopub.execute_input": "2023-04-03T16:03:26.615488Z",
     "iopub.status.busy": "2023-04-03T16:03:26.615077Z",
     "iopub.status.idle": "2023-04-03T16:03:27.296717Z",
     "shell.execute_reply": "2023-04-03T16:03:27.295856Z"
    },
    "papermill": {
     "duration": 0.696946,
     "end_time": "2023-04-03T16:03:27.298876",
     "exception": false,
     "start_time": "2023-04-03T16:03:26.601930",
     "status": "completed"
    },
    "tags": []
   },
   "outputs": [],
   "source": [
    "from sklearn.ensemble import RandomForest\n",
    "rf = RandomForest()\n",
    "rf.fit(Xfin,y)"
   ]
  },
  {
   "cell_type": "code",
   "execution_count": null,
   "metadata": {
    "execution": {
     "iopub.execute_input": "2023-04-03T16:03:27.324151Z",
     "iopub.status.busy": "2023-04-03T16:03:27.323487Z",
     "iopub.status.idle": "2023-04-03T16:03:27.327322Z",
     "shell.execute_reply": "2023-04-03T16:03:27.326538Z"
    },
    "papermill": {
     "duration": 0.018986,
     "end_time": "2023-04-03T16:03:27.329437",
     "exception": false,
     "start_time": "2023-04-03T16:03:27.310451",
     "status": "completed"
    },
    "tags": []
   },
   "outputs": [],
   "source": [
    "from sklearn.metrics import classification_report\n",
    "ypred = rf.predict(Xtrain)\n",
    "print(classification_report(ytest, ypred))"
   ]
  },
  {
   "cell_type": "markdown",
   "metadata": {},
   "source": [
    "### HPT on choosen model"
   ]
  },
  {
   "cell_type": "code",
   "execution_count": null,
   "metadata": {
    "execution": {
     "iopub.execute_input": "2023-04-03T16:03:27.354680Z",
     "iopub.status.busy": "2023-04-03T16:03:27.353997Z",
     "iopub.status.idle": "2023-04-03T16:03:27.359035Z",
     "shell.execute_reply": "2023-04-03T16:03:27.357973Z"
    },
    "papermill": {
     "duration": 0.020343,
     "end_time": "2023-04-03T16:03:27.361560",
     "exception": false,
     "start_time": "2023-04-03T16:03:27.341217",
     "status": "completed"
    },
    "tags": []
   },
   "outputs": [],
   "source": [
    "from sklearn.model_selection import GridSearchCV\n",
    "param_grid = { \n",
    "    'n_estimators': [50, 100, 150], \n",
    "    'max_features': ['sqrt', 'log2', None], \n",
    "    'max_depth': [3, 6, 9], \n",
    "    'max_leaf_nodes': [3, 6, 9], \n",
    "} \n",
    "\n",
    "gcv = GridSearchCV(mlpc, param_grid, cv=4)\n",
    "gcv.fit(Xfin, y)"
   ]
  },
  {
   "cell_type": "code",
   "execution_count": null,
   "metadata": {
    "execution": {
     "iopub.execute_input": "2023-04-03T16:03:27.387177Z",
     "iopub.status.busy": "2023-04-03T16:03:27.386380Z",
     "iopub.status.idle": "2023-04-03T16:03:27.391125Z",
     "shell.execute_reply": "2023-04-03T16:03:27.390273Z"
    },
    "papermill": {
     "duration": 0.020205,
     "end_time": "2023-04-03T16:03:27.393362",
     "exception": false,
     "start_time": "2023-04-03T16:03:27.373157",
     "status": "completed"
    },
    "tags": []
   },
   "outputs": [],
   "source": [
    "from sklearn.metrics import classification_report\n",
    "ypred = gcv.predict(Xtest)\n",
    "print(classification_report(ytest, ypred))"
   ]
  },
  {
   "cell_type": "code",
   "execution_count": null,
   "metadata": {
    "execution": {
     "iopub.execute_input": "2023-04-03T16:03:27.418674Z",
     "iopub.status.busy": "2023-04-03T16:03:27.417930Z",
     "iopub.status.idle": "2023-04-03T16:03:27.422586Z",
     "shell.execute_reply": "2023-04-03T16:03:27.421864Z"
    },
    "papermill": {
     "duration": 0.019784,
     "end_time": "2023-04-03T16:03:27.424768",
     "exception": false,
     "start_time": "2023-04-03T16:03:27.404984",
     "status": "completed"
    },
    "tags": []
   },
   "outputs": [],
   "source": [
    "gcv.score(Xtest, ytest)"
   ]
  },
  {
   "cell_type": "code",
   "execution_count": null,
   "metadata": {
    "execution": {
     "iopub.execute_input": "2023-04-03T16:03:27.450824Z",
     "iopub.status.busy": "2023-04-03T16:03:27.449978Z",
     "iopub.status.idle": "2023-04-03T16:03:27.454985Z",
     "shell.execute_reply": "2023-04-03T16:03:27.454124Z"
    },
    "papermill": {
     "duration": 0.020927,
     "end_time": "2023-04-03T16:03:27.457457",
     "exception": false,
     "start_time": "2023-04-03T16:03:27.436530",
     "status": "completed"
    },
    "tags": []
   },
   "outputs": [],
   "source": [
    "gcv.best_params_"
   ]
  },
  {
   "cell_type": "markdown",
   "metadata": {
    "papermill": {
     "duration": 0.011704,
     "end_time": "2023-04-03T16:03:27.480895",
     "exception": false,
     "start_time": "2023-04-03T16:03:27.469191",
     "status": "completed"
    },
    "tags": []
   },
   "source": [
    "### Preprocessing test data similar to train data"
   ]
  },
  {
   "cell_type": "code",
   "execution_count": null,
   "metadata": {
    "execution": {
     "iopub.execute_input": "2023-04-03T16:03:27.506469Z",
     "iopub.status.busy": "2023-04-03T16:03:27.506031Z",
     "iopub.status.idle": "2023-04-03T16:03:27.513311Z",
     "shell.execute_reply": "2023-04-03T16:03:27.512318Z"
    },
    "papermill": {
     "duration": 0.023074,
     "end_time": "2023-04-03T16:03:27.515888",
     "exception": false,
     "start_time": "2023-04-03T16:03:27.492814",
     "status": "completed"
    },
    "tags": []
   },
   "outputs": [],
   "source": [
    "test_data.drop(['ProductDescriptionPage', 'GoogleMetric:Exit Rates', 'OS'], inplace=True, axis=1)"
   ]
  },
  {
   "cell_type": "code",
   "execution_count": null,
   "metadata": {
    "execution": {
     "iopub.execute_input": "2023-04-03T16:03:27.542340Z",
     "iopub.status.busy": "2023-04-03T16:03:27.541566Z",
     "iopub.status.idle": "2023-04-03T16:03:27.549388Z",
     "shell.execute_reply": "2023-04-03T16:03:27.548569Z"
    },
    "papermill": {
     "duration": 0.024061,
     "end_time": "2023-04-03T16:03:27.551908",
     "exception": false,
     "start_time": "2023-04-03T16:03:27.527847",
     "status": "completed"
    },
    "tags": []
   },
   "outputs": [],
   "source": [
    "test_cat = test_data[['Month_SeasonalPurchase','Gender', 'CustomerType', 'Cookies Setting','Marital Status','Education']]\n",
    "test_num = test_data.drop(['Month_SeasonalPurchase','Gender', 'CustomerType', 'Cookies Setting','Marital Status','Education'], axis=1)"
   ]
  },
  {
   "cell_type": "code",
   "execution_count": null,
   "metadata": {
    "execution": {
     "iopub.execute_input": "2023-04-03T16:03:27.577603Z",
     "iopub.status.busy": "2023-04-03T16:03:27.576822Z",
     "iopub.status.idle": "2023-04-03T16:03:27.592513Z",
     "shell.execute_reply": "2023-04-03T16:03:27.591662Z"
    },
    "papermill": {
     "duration": 0.031534,
     "end_time": "2023-04-03T16:03:27.595102",
     "exception": false,
     "start_time": "2023-04-03T16:03:27.563568",
     "status": "completed"
    },
    "tags": []
   },
   "outputs": [],
   "source": [
    "test_num_trans = pd.DataFrame(numpipe.fit_transform(test_num))"
   ]
  },
  {
   "cell_type": "code",
   "execution_count": null,
   "metadata": {
    "execution": {
     "iopub.execute_input": "2023-04-03T16:03:27.620908Z",
     "iopub.status.busy": "2023-04-03T16:03:27.620111Z",
     "iopub.status.idle": "2023-04-03T16:03:27.634715Z",
     "shell.execute_reply": "2023-04-03T16:03:27.633883Z"
    },
    "papermill": {
     "duration": 0.030396,
     "end_time": "2023-04-03T16:03:27.637235",
     "exception": false,
     "start_time": "2023-04-03T16:03:27.606839",
     "status": "completed"
    },
    "tags": []
   },
   "outputs": [],
   "source": [
    "test_cat = pd.DataFrame(SimpleImputer(strategy='most_frequent').fit_transform(test_cat))"
   ]
  },
  {
   "cell_type": "code",
   "execution_count": null,
   "metadata": {
    "execution": {
     "iopub.execute_input": "2023-04-03T16:03:27.662971Z",
     "iopub.status.busy": "2023-04-03T16:03:27.662167Z",
     "iopub.status.idle": "2023-04-03T16:03:27.685159Z",
     "shell.execute_reply": "2023-04-03T16:03:27.683952Z"
    },
    "papermill": {
     "duration": 0.039032,
     "end_time": "2023-04-03T16:03:27.688018",
     "exception": false,
     "start_time": "2023-04-03T16:03:27.648986",
     "status": "completed"
    },
    "tags": []
   },
   "outputs": [],
   "source": [
    "from sklearn.preprocessing import OneHotEncoder\n",
    "ohe = OneHotEncoder(sparse=False, drop='first')\n",
    "test_cat_trans = pd.DataFrame((ohe.fit_transform(test_cat)))"
   ]
  },
  {
   "cell_type": "code",
   "execution_count": null,
   "metadata": {
    "execution": {
     "iopub.execute_input": "2023-04-03T16:03:27.713500Z",
     "iopub.status.busy": "2023-04-03T16:03:27.713034Z",
     "iopub.status.idle": "2023-04-03T16:03:27.755857Z",
     "shell.execute_reply": "2023-04-03T16:03:27.754707Z"
    },
    "papermill": {
     "duration": 0.058686,
     "end_time": "2023-04-03T16:03:27.758253",
     "exception": false,
     "start_time": "2023-04-03T16:03:27.699567",
     "status": "completed"
    },
    "tags": []
   },
   "outputs": [],
   "source": [
    "test_fin = pd.DataFrame(np.hstack((test_num_trans, test_cat_trans)))\n",
    "test_fin"
   ]
  },
  {
   "cell_type": "markdown",
   "metadata": {
    "papermill": {
     "duration": 0.0118,
     "end_time": "2023-04-03T16:03:27.782067",
     "exception": false,
     "start_time": "2023-04-03T16:03:27.770267",
     "status": "completed"
    },
    "tags": []
   },
   "source": [
    "### **Predicting on test data**"
   ]
  },
  {
   "cell_type": "code",
   "execution_count": null,
   "metadata": {
    "execution": {
     "iopub.execute_input": "2023-04-03T16:03:27.809588Z",
     "iopub.status.busy": "2023-04-03T16:03:27.808703Z",
     "iopub.status.idle": "2023-04-03T16:03:28.097710Z",
     "shell.execute_reply": "2023-04-03T16:03:28.096795Z"
    },
    "papermill": {
     "duration": 0.306123,
     "end_time": "2023-04-03T16:03:28.100319",
     "exception": false,
     "start_time": "2023-04-03T16:03:27.794196",
     "status": "completed"
    },
    "tags": []
   },
   "outputs": [],
   "source": [
    "test_pred = gcv.predict(test_fin)"
   ]
  },
  {
   "cell_type": "code",
   "execution_count": null,
   "metadata": {
    "execution": {
     "iopub.execute_input": "2023-04-03T16:03:28.126724Z",
     "iopub.status.busy": "2023-04-03T16:03:28.125971Z",
     "iopub.status.idle": "2023-04-03T16:03:28.145219Z",
     "shell.execute_reply": "2023-04-03T16:03:28.143997Z"
    },
    "papermill": {
     "duration": 0.035566,
     "end_time": "2023-04-03T16:03:28.148003",
     "exception": false,
     "start_time": "2023-04-03T16:03:28.112437",
     "status": "completed"
    },
    "tags": []
   },
   "outputs": [],
   "source": [
    "sub = pd.DataFrame(test_pred, columns=['Made_Purchase'])\n",
    "sub.index.name = 'id'\n",
    "sub.to_csv(\"submission.csv\", encoding='utf-8')\n",
    "\n",
    "submission = pd.read_csv(\"submission.csv\")"
   ]
  }
 ],
 "metadata": {
  "kernelspec": {
   "display_name": "Python 3",
   "language": "python",
   "name": "python3"
  },
  "language_info": {
   "codemirror_mode": {
    "name": "ipython",
    "version": 3
   },
   "file_extension": ".py",
   "mimetype": "text/x-python",
   "name": "python",
   "nbconvert_exporter": "python",
   "pygments_lexer": "ipython3",
   "version": "3.8.5"
  },
  "papermill": {
   "default_parameters": {},
   "duration": 15.859719,
   "end_time": "2023-04-03T16:03:29.015968",
   "environment_variables": {},
   "exception": null,
   "input_path": "__notebook__.ipynb",
   "output_path": "__notebook__.ipynb",
   "parameters": {},
   "start_time": "2023-04-03T16:03:13.156249",
   "version": "2.3.4"
  }
 },
 "nbformat": 4,
 "nbformat_minor": 5
}
